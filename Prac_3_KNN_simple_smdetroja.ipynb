{
 "cells": [
  {
   "cell_type": "code",
   "execution_count": 1,
   "id": "1ffab5aa",
   "metadata": {},
   "outputs": [
    {
     "name": "stdout",
     "output_type": "stream",
     "text": [
      "Index(['Unnamed: 0', 'sepal length', 'sepal width', 'species', 'sqrt'], dtype='object')\n",
      "    sepal length  sepal width     species       sqrt\n",
      "0            5.3          3.7      setosa   2.441311\n",
      "1            5.1          3.8      setosa   2.459675\n",
      "2            7.2          3.0   virginica   2.641969\n",
      "3            5.4          3.4      setosa   2.662705\n",
      "4            5.1          3.3      setosa   2.758623\n",
      "5            5.4          3.9      setosa   2.920616\n",
      "6            7.4          2.8   virginica   3.360060\n",
      "7            6.1          2.8  versicolor   3.687818\n",
      "8            7.3          2.9   virginica   3.828838\n",
      "9            6.0          2.7  versicolor   3.841875\n",
      "10           6.8          2.8   virginica   4.186884\n",
      "11           6.3          2.3  versicolor   4.318565\n",
      "12           5.1          2.5  versicolor   4.410215\n",
      "13           6.3          2.5  versicolor   4.652956\n",
      "14           5.5          2.4  versicolor   4.788528\n",
      "15          10.0         20.0      setosa   4.924429\n",
      "16           2.0          3.0      setosa  16.329421\n",
      "17           3.1          5.2      setosa        NaN\n"
     ]
    }
   ],
   "source": [
    "import pandas as pd\n",
    "import numpy as np\n",
    "\n",
    "#read the csv file\n",
    "df = pd.read_csv('KNN.csv')\n",
    "col = df.columns\n",
    "print(col)\n",
    "\n",
    "if 'Unnamed: 0' in col:\n",
    "    df.drop('Unnamed: 0', axis = 1, inplace = True)\n",
    "\n",
    "print(df)"
   ]
  },
  {
   "cell_type": "code",
   "execution_count": 2,
   "id": "b4735c0f",
   "metadata": {},
   "outputs": [
    {
     "name": "stdout",
     "output_type": "stream",
     "text": [
      "[5.3, 5.1, 7.2, 5.4, 5.1, 5.4, 7.4, 6.1, 7.3, 6.0, 6.8, 6.3, 5.1, 6.3, 5.5, 10.0, 2.0, 3.1]\n",
      "[3.7, 3.8, 3.0, 3.4, 3.3, 3.9, 2.8, 2.8, 2.9, 2.7, 2.8, 2.3, 2.5, 2.5, 2.4, 20.0, 3.0, 5.2]\n"
     ]
    }
   ],
   "source": [
    "length = df['sepal length'].tolist()\n",
    "print(length)\n",
    "width = df['sepal width'].tolist()\n",
    "print(width)"
   ]
  },
  {
   "cell_type": "code",
   "execution_count": 3,
   "id": "2a2b1684",
   "metadata": {},
   "outputs": [
    {
     "name": "stdout",
     "output_type": "stream",
     "text": [
      "Enter new sepal length: 8\n",
      "Enter new sepal width: 9\n"
     ]
    }
   ],
   "source": [
    "x2 = eval(input(\"Enter new sepal length: \"))\n",
    "y2 = eval(input(\"Enter new sepal width: \"))\n",
    "k = 3"
   ]
  },
  {
   "cell_type": "code",
   "execution_count": 4,
   "id": "14bb603e",
   "metadata": {},
   "outputs": [
    {
     "name": "stdout",
     "output_type": "stream",
     "text": [
      "[5.948108943185221, 5.953990258641679, 6.053098380168622, 6.174139616173252, 6.395310782127793, 5.724508712544684, 6.228964600958975, 6.48459713474939, 6.1400325732035, 6.609841147864296, 6.315061361538778, 6.912307863514182, 7.117583859709698, 6.71863081289633, 7.057619995437555, 11.180339887498949, 8.48528137423857, 6.2008063991709985]\n"
     ]
    }
   ],
   "source": [
    "list1 = []\n",
    "for i in range(0,len(length)):\n",
    "    z = np.sqrt((x2-length[i])**2 + (y2-width[i])**2)\n",
    "    list1.append(z)\n",
    "print(list1)"
   ]
  },
  {
   "cell_type": "code",
   "execution_count": 5,
   "id": "708b480d",
   "metadata": {},
   "outputs": [
    {
     "name": "stdout",
     "output_type": "stream",
     "text": [
      "[5.724508712544684, 5.948108943185221, 5.953990258641679, 6.053098380168622, 6.1400325732035, 6.174139616173252, 6.2008063991709985, 6.228964600958975, 6.315061361538778, 6.395310782127793, 6.48459713474939, 6.609841147864296, 6.71863081289633, 6.912307863514182, 7.057619995437555, 7.117583859709698, 8.48528137423857, 11.180339887498949]\n"
     ]
    }
   ],
   "source": [
    "list1.sort()\n",
    "print(list1)"
   ]
  },
  {
   "cell_type": "code",
   "execution_count": 6,
   "id": "e101c484",
   "metadata": {},
   "outputs": [],
   "source": [
    "if len(df['sqrt']) != 0:\n",
    "    df.drop('sqrt', axis = 1, inplace = True)\n",
    "df['sqrt'] = list1 \n",
    "df.to_csv('KNN.csv') "
   ]
  },
  {
   "cell_type": "code",
   "execution_count": 7,
   "id": "aa9d5295",
   "metadata": {},
   "outputs": [
    {
     "name": "stdout",
     "output_type": "stream",
     "text": [
      "   sepal length  sepal width    species      sqrt\n",
      "0           5.3          3.7     setosa  5.724509\n",
      "1           5.1          3.8     setosa  5.948109\n",
      "2           7.2          3.0  virginica  5.953990\n",
      "3           5.4          3.4     setosa  6.053098\n",
      "4           5.1          3.3     setosa  6.140033\n"
     ]
    }
   ],
   "source": [
    "sort = df.head(5)\n",
    "print(sort)"
   ]
  },
  {
   "cell_type": "code",
   "execution_count": 8,
   "id": "a8b1341f",
   "metadata": {},
   "outputs": [
    {
     "data": {
      "text/plain": [
       "sepal length         5.3\n",
       "sepal width          3.7\n",
       "species           setosa\n",
       "sqrt            5.724509\n",
       "Name: 0, dtype: object"
      ]
     },
     "execution_count": 8,
     "metadata": {},
     "output_type": "execute_result"
    }
   ],
   "source": [
    "sort.iloc[0]"
   ]
  },
  {
   "cell_type": "code",
   "execution_count": 9,
   "id": "ddbf077a",
   "metadata": {},
   "outputs": [
    {
     "name": "stdout",
     "output_type": "stream",
     "text": [
      "Highest occuring species is  setosa  its count is  4\n"
     ]
    }
   ],
   "source": [
    "count = [0 for i in range(0, len(df['species'].unique()))]\n",
    "name = df['species'].unique().tolist()\n",
    "#print(name)\n",
    "for i in range(0, len(sort)):       \n",
    "    if sort.iloc[i]['species'] == name[0]:        \n",
    "        count[0] = count[0]+1\n",
    "    elif sort.iloc[i]['species'] == name[1]:        \n",
    "        count[1] = count[1]+1 \n",
    "    elif sort.iloc[i]['species'] == name[2]:        \n",
    "        count[2] = count[2]+1\n",
    "#print(count)\n",
    "# for  i in range(0,len(count)):\n",
    "#     if count[i] == max(count):\n",
    "#         print('Highest occuring species is ',name[i],' its count is ',max(count))\n",
    "\n",
    "#i = count.index(max_count)\n",
    "\n",
    "max_count = max(count)\n",
    "print('Highest occuring species is ',name[count.index(max_count)],' its count is ',max(count))"
   ]
  },
  {
   "cell_type": "code",
   "execution_count": 10,
   "id": "830a62de",
   "metadata": {},
   "outputs": [
    {
     "name": "stdout",
     "output_type": "stream",
     "text": [
      "Data appended successfully.\n"
     ]
    }
   ],
   "source": [
    "fields = {\n",
    "    '' : [len(df)],\n",
    "    'sepal length' : [x2],\n",
    "    'sepal width' : [y2],\n",
    "    'species' : [name[count.index(max_count)]]\n",
    "}\n",
    "\n",
    "df1 = pd.DataFrame(fields)\n",
    "df1.to_csv('KNN.csv', mode = 'a', index=False, header=False)\n",
    "print(\"Data appended successfully.\")\n"
   ]
  }
 ],
 "metadata": {
  "kernelspec": {
   "display_name": "Python 3 (ipykernel)",
   "language": "python",
   "name": "python3"
  },
  "language_info": {
   "codemirror_mode": {
    "name": "ipython",
    "version": 3
   },
   "file_extension": ".py",
   "mimetype": "text/x-python",
   "name": "python",
   "nbconvert_exporter": "python",
   "pygments_lexer": "ipython3",
   "version": "3.9.12"
  }
 },
 "nbformat": 4,
 "nbformat_minor": 5
}

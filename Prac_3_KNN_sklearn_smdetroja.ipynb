{
 "cells": [
  {
   "cell_type": "code",
   "execution_count": 1,
   "id": "178590d3",
   "metadata": {},
   "outputs": [],
   "source": [
    "#KNN with scikit learn\n",
    "\n",
    "import pandas as pd\n",
    "import numpy as np\n",
    "from sklearn.model_selection import train_test_split\n",
    "from sklearn.preprocessing import StandardScaler\n",
    "from sklearn.neighbors import KNeighborsClassifier"
   ]
  },
  {
   "cell_type": "code",
   "execution_count": 2,
   "id": "740b3d09",
   "metadata": {},
   "outputs": [
    {
     "name": "stdout",
     "output_type": "stream",
     "text": [
      "    sepal length  sepal width     species\n",
      "0            5.3          3.7      setosa\n",
      "1            5.1          3.8      setosa\n",
      "2            7.2          3.0   virginica\n",
      "3            5.4          3.4      setosa\n",
      "4            5.1          3.3      setosa\n",
      "5            5.4          3.9      setosa\n",
      "6            7.4          2.8   virginica\n",
      "7            6.1          2.8  versicolor\n",
      "8            7.3          2.9   virginica\n",
      "9            6.0          2.7  versicolor\n",
      "10           6.8          2.8   virginica\n",
      "11           6.3          2.3  versicolor\n",
      "12           5.1          2.5  versicolor\n",
      "13           6.3          2.5  versicolor\n",
      "14           5.5          2.4  versicolor\n"
     ]
    }
   ],
   "source": [
    "df = pd.read_csv('KNN_sklearn.csv')\n",
    "print(df)"
   ]
  },
  {
   "cell_type": "code",
   "execution_count": 3,
   "id": "01244eb3",
   "metadata": {},
   "outputs": [
    {
     "name": "stdout",
     "output_type": "stream",
     "text": [
      "[[5.3 3.7]\n",
      " [5.1 3.8]\n",
      " [7.2 3. ]\n",
      " [5.4 3.4]\n",
      " [5.1 3.3]\n",
      " [5.4 3.9]\n",
      " [7.4 2.8]\n",
      " [6.1 2.8]\n",
      " [7.3 2.9]\n",
      " [6.  2.7]\n",
      " [6.8 2.8]\n",
      " [6.3 2.3]\n",
      " [5.1 2.5]\n",
      " [6.3 2.5]\n",
      " [5.5 2.4]]\n",
      "['setosa' 'setosa' 'virginica' 'setosa' 'setosa' 'setosa' 'virginica'\n",
      " 'versicolor' 'virginica' 'versicolor' 'virginica' 'versicolor'\n",
      " 'versicolor' 'versicolor' 'versicolor']\n"
     ]
    }
   ],
   "source": [
    "x = df.iloc[:, :-1].values\n",
    "y = df.iloc[:, 2].values\n",
    "\n",
    "print(x)\n",
    "print(y)"
   ]
  },
  {
   "cell_type": "code",
   "execution_count": 4,
   "id": "c2707b41",
   "metadata": {},
   "outputs": [
    {
     "name": "stdout",
     "output_type": "stream",
     "text": [
      "[[5.3 3.7]\n",
      " [5.1 3.3]\n",
      " [5.5 2.4]\n",
      " [6.3 2.3]\n",
      " [7.2 3. ]\n",
      " [6.1 2.8]\n",
      " [6.3 2.5]\n",
      " [6.  2.7]\n",
      " [5.4 3.9]\n",
      " [6.8 2.8]\n",
      " [5.4 3.4]]\n"
     ]
    }
   ],
   "source": [
    "x_train, x_test, y_train, y_test = train_test_split(x, y, test_size=0.25)\n",
    "print(x_train)"
   ]
  },
  {
   "cell_type": "code",
   "execution_count": 5,
   "id": "4caa33e0",
   "metadata": {},
   "outputs": [],
   "source": [
    "scaler = StandardScaler()\n",
    "scaler.fit(x_train)\n",
    "x_train = scaler.transform(x_train)\n",
    "x_test = scaler.transform(x_test)\n",
    "# print(x_test)"
   ]
  },
  {
   "cell_type": "code",
   "execution_count": 6,
   "id": "bcdcbc26",
   "metadata": {},
   "outputs": [
    {
     "name": "stdout",
     "output_type": "stream",
     "text": [
      "Actual class labels :  ['setosa' 'versicolor' 'virginica' 'virginica']\n",
      "Predicted class labels :  ['setosa' 'versicolor' 'virginica' 'virginica']\n"
     ]
    }
   ],
   "source": [
    "regressor = KNeighborsClassifier(n_neighbors=3)\n",
    "\n",
    "regressor.fit(x_train, y_train)\n",
    "\n",
    "y_pred = regressor.predict(x_test)\n",
    "\n",
    "print(\"Actual class labels : \", y_test)\n",
    "\n",
    "print(\"Predicted class labels : \", y_pred)"
   ]
  }
 ],
 "metadata": {
  "kernelspec": {
   "display_name": "Python 3 (ipykernel)",
   "language": "python",
   "name": "python3"
  },
  "language_info": {
   "codemirror_mode": {
    "name": "ipython",
    "version": 3
   },
   "file_extension": ".py",
   "mimetype": "text/x-python",
   "name": "python",
   "nbconvert_exporter": "python",
   "pygments_lexer": "ipython3",
   "version": "3.9.12"
  }
 },
 "nbformat": 4,
 "nbformat_minor": 5
}
